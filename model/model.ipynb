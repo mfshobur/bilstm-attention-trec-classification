{
 "cells": [
  {
   "cell_type": "code",
   "execution_count": 70,
   "metadata": {},
   "outputs": [],
   "source": [
    "import torch\n",
    "import torch.nn as nn"
   ]
  },
  {
   "cell_type": "code",
   "execution_count": 71,
   "metadata": {},
   "outputs": [],
   "source": [
    "class LSTMCell_v1(nn.Module):\n",
    "    def __init__(self, input_size, hidden_size):\n",
    "        super().__init__()\n",
    "        # forget gate\n",
    "        self.W_if = nn.Linear(input_size, hidden_size)\n",
    "        self.W_hf = nn.Linear(hidden_size, hidden_size)\n",
    "\n",
    "        # input gate\n",
    "        self.W_ii = nn.Linear(input_size, hidden_size)\n",
    "        self.W_hi = nn.Linear(hidden_size, hidden_size)\n",
    "        self.W_ig = nn.Linear(input_size, hidden_size)\n",
    "        self.W_hg = nn.Linear(hidden_size, hidden_size)\n",
    "\n",
    "        # output gate\n",
    "        self.W_io = nn.Linear(input_size, hidden_size)\n",
    "        self.W_ho = nn.Linear(hidden_size, hidden_size)\n",
    "\n",
    "    \n",
    "    def forget_gate(self, x, h):\n",
    "        sum = self.W_if(x) + self.W_hf(h)\n",
    "        return torch.sigmoid(sum)\n",
    "    \n",
    "    def input_gate(self, x, h):\n",
    "        sum_i = self.W_ii(x) + self.W_hi(h)\n",
    "        \n",
    "        return torch.sigmoid(sum_i)\n",
    "    \n",
    "    def gate_gate(self, x, h):\n",
    "        sum_g = self.W_ig(x) + self.W_hg(h)\n",
    "        return torch.tanh(sum_g)\n",
    "\n",
    "    def output_gate(self, x, h):\n",
    "        sum = self.W_io(x) + self.W_ho(h)\n",
    "        return torch.sigmoid(sum)\n",
    "    \n",
    "    def forward(self, x, hx):\n",
    "        \"\"\"\n",
    "        hx[0] = h0 (previous hidden state)\n",
    "        hx[1] = c0 (previous cell state)\n",
    "        \"\"\"\n",
    "        f = self.forget_gate(x, hx[0])\n",
    "\n",
    "        i = self.input_gate(x, hx[0])\n",
    "\n",
    "        g = self.gate_gate(x, hx[0])\n",
    "\n",
    "        c = f * hx[1] + i * g\n",
    "\n",
    "        o = self.output_gate(x, hx[0])\n",
    "\n",
    "        h = o * torch.tanh(c)\n",
    "\n",
    "        return h, c"
   ]
  },
  {
   "cell_type": "code",
   "execution_count": 72,
   "metadata": {},
   "outputs": [
    {
     "data": {
      "text/plain": [
       "(tensor([0.0026, 0.4531], grad_fn=<MulBackward0>),\n",
       " tensor([0.0057, 0.7365], grad_fn=<AddBackward0>))"
      ]
     },
     "execution_count": 72,
     "metadata": {},
     "output_type": "execute_result"
    }
   ],
   "source": [
    "cell = LSTMCell_v1(3, 2)\n",
    "\n",
    "input = torch.tensor([1.0, 2.0, 3.0])\n",
    "\n",
    "h0 = torch.zeros(2)\n",
    "c0 = torch.zeros(2)\n",
    "\n",
    "output = cell(input, (h0, c0))\n",
    "\n",
    "output"
   ]
  },
  {
   "cell_type": "markdown",
   "metadata": {},
   "source": [
    "# LSTM Cell Efficient Linear"
   ]
  },
  {
   "cell_type": "code",
   "execution_count": 73,
   "metadata": {},
   "outputs": [],
   "source": [
    "class LSTMCell(nn.Module):\n",
    "    def __init__(self, input_size, hidden_size):\n",
    "        super().__init__()\n",
    "        self.W_x = nn.Linear(input_size, 4 * hidden_size) # 4 is for forget, input, gate, and output gate\n",
    "        self.W_h = nn.Linear(hidden_size, 4 * hidden_size)\n",
    "    \n",
    "    def forward(self, x, hx):\n",
    "        assert x.shape[-1] == self.W_x.in_features, \"Input size mismatch\"\n",
    "        assert hx[0].shape[-1] == self.W_x.out_features // 4, \"Output size mismatch\"\n",
    "\n",
    "        gates = self.W_x(x) + self.W_h(hx[0])\n",
    "        f, i, g, o = torch.chunk(gates, 4, dim=-1)\n",
    "        f = torch.sigmoid(f)\n",
    "        i = torch.sigmoid(i)\n",
    "        g = torch.tanh(g)\n",
    "        o = torch.sigmoid(o)\n",
    "\n",
    "        c = f * hx[1] + i * g\n",
    "\n",
    "        h = o * torch.tanh(c)\n",
    "\n",
    "        return h, c"
   ]
  },
  {
   "cell_type": "code",
   "execution_count": 76,
   "metadata": {},
   "outputs": [
    {
     "data": {
      "text/plain": [
       "(tensor([-0.1013,  0.2584,  0.3161], grad_fn=<MulBackward0>),\n",
       " tensor([-0.8177,  0.2755,  0.3938], grad_fn=<AddBackward0>))"
      ]
     },
     "execution_count": 76,
     "metadata": {},
     "output_type": "execute_result"
    }
   ],
   "source": [
    "cell = LSTMCell(5, 3)\n",
    "\n",
    "input = torch.tensor([1., 2., 3., 4., 5.,])\n",
    "\n",
    "h0 = torch.zeros(3)\n",
    "c0 = torch.zeros(3)\n",
    "\n",
    "output = cell(input, (h0, c0))\n",
    "\n",
    "output"
   ]
  },
  {
   "cell_type": "code",
   "execution_count": null,
   "metadata": {},
   "outputs": [],
   "source": []
  }
 ],
 "metadata": {
  "kernelspec": {
   "display_name": "Python 3",
   "language": "python",
   "name": "python3"
  },
  "language_info": {
   "codemirror_mode": {
    "name": "ipython",
    "version": 3
   },
   "file_extension": ".py",
   "mimetype": "text/x-python",
   "name": "python",
   "nbconvert_exporter": "python",
   "pygments_lexer": "ipython3",
   "version": "3.9.6"
  }
 },
 "nbformat": 4,
 "nbformat_minor": 2
}
