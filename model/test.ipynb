{
 "cells": [
  {
   "cell_type": "markdown",
   "metadata": {},
   "source": [
    "# Notebook for testing"
   ]
  },
  {
   "cell_type": "code",
   "execution_count": 3,
   "metadata": {},
   "outputs": [],
   "source": [
    "import torch\n",
    "import torch.nn as nn"
   ]
  },
  {
   "cell_type": "markdown",
   "metadata": {},
   "source": [
    "## Testing hx batch"
   ]
  },
  {
   "cell_type": "code",
   "execution_count": 29,
   "metadata": {},
   "outputs": [
    {
     "data": {
      "text/plain": [
       "torch.Size([3, 8])"
      ]
     },
     "execution_count": 29,
     "metadata": {},
     "output_type": "execute_result"
    }
   ],
   "source": [
    "batch_size = 3\n",
    "emb_size = 8\n",
    "# create tensor with (batch_size, emb_size)\n",
    "\n",
    "tensor_list = [torch.randn(batch_size, emb_size) for _ in range(5)]\n",
    "tensor_list[0].shape"
   ]
  },
  {
   "cell_type": "code",
   "execution_count": 30,
   "metadata": {},
   "outputs": [
    {
     "data": {
      "text/plain": [
       "(tensor([[[-3.2368e+00, -4.4749e-01,  4.9070e-01,  8.9110e-01, -1.2716e+00,\n",
       "            7.5128e-01,  6.1306e-01, -6.5005e-01],\n",
       "          [ 9.7524e-01, -7.4947e-01, -3.0802e-02,  3.7893e-01, -4.7412e-01,\n",
       "           -4.6613e-01, -1.3063e+00,  7.8284e-01],\n",
       "          [ 7.0638e-01, -4.5277e-01,  7.4497e-02,  8.4256e-01, -5.6880e-01,\n",
       "           -5.5583e-01,  9.8055e-01, -3.2720e-01]],\n",
       " \n",
       "         [[ 2.2275e-01,  2.0674e-01,  2.3737e-01,  3.9811e-01,  1.1088e-02,\n",
       "           -1.0041e+00,  3.2862e-01,  8.2584e-02],\n",
       "          [-3.7154e-01,  5.9515e-01,  2.1369e+00, -2.1746e-01,  1.4995e-01,\n",
       "            1.0996e+00,  7.3253e-02,  2.5993e+00],\n",
       "          [-6.3371e-01,  5.3725e-01,  4.3295e-01, -1.1502e+00,  8.6717e-01,\n",
       "           -9.9646e-02, -8.5198e-01, -1.3883e-01]],\n",
       " \n",
       "         [[ 2.6932e-01,  1.7471e-01,  1.2543e+00,  5.9568e-01,  1.8239e+00,\n",
       "            2.3741e+00, -8.7734e-01,  3.8047e-01],\n",
       "          [ 5.1272e-01, -7.5237e-01,  6.2516e-02, -1.3853e+00, -1.3991e+00,\n",
       "           -8.0858e-01,  8.5075e-02,  3.0684e-01],\n",
       "          [ 3.6037e-02, -7.9950e-01, -2.1206e+00,  6.2430e-01,  6.3244e-01,\n",
       "           -4.4497e-01, -1.0447e+00, -1.6635e-01]],\n",
       " \n",
       "         [[ 1.3607e-02,  7.9285e-01, -1.1413e+00,  8.9020e-01,  1.4510e+00,\n",
       "           -9.1767e-02,  6.5757e-01,  1.1597e+00],\n",
       "          [-6.0278e-01, -3.0888e-01,  2.1042e+00, -6.8513e-01,  5.9161e-05,\n",
       "            1.1387e+00, -1.2811e+00,  1.6754e+00],\n",
       "          [ 5.5413e-01, -1.0846e-01,  1.1967e+00, -1.4039e-01, -4.8460e-01,\n",
       "           -2.2076e-01,  1.6851e+00,  2.6660e+00]],\n",
       " \n",
       "         [[ 1.0932e+00,  1.0579e+00, -6.3094e-01, -1.1524e+00, -8.3349e-01,\n",
       "           -7.2610e-01,  8.9937e-01,  3.4155e-01],\n",
       "          [ 1.3513e+00, -2.2595e+00,  1.3091e+00, -2.7011e-01,  3.8686e-01,\n",
       "            1.5166e+00, -5.8056e-01, -8.6084e-01],\n",
       "          [ 2.9166e-01, -5.4617e-01,  1.2610e+00, -2.7998e-01, -1.6563e-01,\n",
       "           -1.1005e+00, -5.0078e-01, -1.5665e+00]]]),\n",
       " torch.Size([5, 3, 8]))"
      ]
     },
     "execution_count": 30,
     "metadata": {},
     "output_type": "execute_result"
    }
   ],
   "source": [
    "hx = torch.tensor([])\n",
    "\n",
    "for _, tensor in enumerate(tensor_list):\n",
    "    hx = torch.cat([hx, tensor.unsqueeze(0)])\n",
    "\n",
    "hx, hx.shape"
   ]
  },
  {
   "cell_type": "markdown",
   "metadata": {},
   "source": [
    "## Test LSTM output tensor"
   ]
  },
  {
   "cell_type": "code",
   "execution_count": 31,
   "metadata": {},
   "outputs": [
    {
     "data": {
      "text/plain": [
       "torch.Size([2, 3, 16])"
      ]
     },
     "execution_count": 31,
     "metadata": {},
     "output_type": "execute_result"
    }
   ],
   "source": [
    "# forward and backward output with 2 batch, 3 seq_len, and 8 emb_size\n",
    "forward_output = torch.randn(2, 3, 8)\n",
    "backward_output = torch.randn(2, 3, 8)\n",
    "\n",
    "forward_output = torch.cat([forward_output, backward_output], dim=2)\n",
    "forward_output.shape"
   ]
  },
  {
   "cell_type": "code",
   "execution_count": 32,
   "metadata": {},
   "outputs": [
    {
     "data": {
      "text/plain": [
       "tensor([[[ 2.5458,  1.4125, -0.9778, -1.3649,  0.2952,  1.1525, -1.4961,\n",
       "           1.9194],\n",
       "         [-0.6118, -1.0432,  0.8945, -0.1850,  1.1963, -1.0504, -0.2382,\n",
       "           0.1597],\n",
       "         [ 0.8918, -0.6380, -0.4583,  0.8808, -0.2318,  0.0606,  1.0985,\n",
       "           0.3355]],\n",
       "\n",
       "        [[-0.6695,  1.2148,  1.1724, -0.7473,  0.3906, -1.4305, -0.0573,\n",
       "          -0.5975],\n",
       "         [-1.4658,  0.2745, -0.1305, -2.8308, -0.9624, -0.4978, -0.9677,\n",
       "           1.6860],\n",
       "         [-0.8517, -0.2969,  0.4448, -1.3759,  0.4630, -0.5030,  0.5004,\n",
       "           0.7218]]])"
      ]
     },
     "execution_count": 32,
     "metadata": {},
     "output_type": "execute_result"
    }
   ],
   "source": [
    "backward_output"
   ]
  },
  {
   "cell_type": "code",
   "execution_count": 33,
   "metadata": {},
   "outputs": [
    {
     "data": {
      "text/plain": [
       "tensor([[[ 2.5458,  1.4125, -0.9778, -1.3649,  0.2952,  1.1525, -1.4961,\n",
       "           1.9194],\n",
       "         [-0.6118, -1.0432,  0.8945, -0.1850,  1.1963, -1.0504, -0.2382,\n",
       "           0.1597],\n",
       "         [ 0.8918, -0.6380, -0.4583,  0.8808, -0.2318,  0.0606,  1.0985,\n",
       "           0.3355]],\n",
       "\n",
       "        [[-0.6695,  1.2148,  1.1724, -0.7473,  0.3906, -1.4305, -0.0573,\n",
       "          -0.5975],\n",
       "         [-1.4658,  0.2745, -0.1305, -2.8308, -0.9624, -0.4978, -0.9677,\n",
       "           1.6860],\n",
       "         [-0.8517, -0.2969,  0.4448, -1.3759,  0.4630, -0.5030,  0.5004,\n",
       "           0.7218]]])"
      ]
     },
     "execution_count": 33,
     "metadata": {},
     "output_type": "execute_result"
    }
   ],
   "source": [
    "forward_output[:, :, 8:]"
   ]
  },
  {
   "cell_type": "markdown",
   "metadata": {},
   "source": [
    "# Test MOdulelist"
   ]
  },
  {
   "cell_type": "code",
   "execution_count": 34,
   "metadata": {},
   "outputs": [],
   "source": [
    "class CustomLayer(nn.Module):\n",
    "    def __init__(self):\n",
    "        super().__init__()\n",
    "        self.layers = nn.ModuleList()\n",
    "\n",
    "        self.layers.ap"
   ]
  },
  {
   "cell_type": "code",
   "execution_count": 35,
   "metadata": {},
   "outputs": [
    {
     "data": {
      "text/plain": [
       "(tensor([[ 0.2154, -0.2015,  1.1735, -0.0035],\n",
       "         [-0.1703, -1.5759, -0.5944, -0.6289],\n",
       "         [-0.1429, -0.8512, -1.1344, -0.0945],\n",
       "         [ 0.8801,  0.6675,  1.7977,  0.7638]]),\n",
       " torch.Size([4, 4]))"
      ]
     },
     "execution_count": 35,
     "metadata": {},
     "output_type": "execute_result"
    }
   ],
   "source": [
    "apa = torch.randn(4,4)\n",
    "apa, apa.shape"
   ]
  },
  {
   "cell_type": "code",
   "execution_count": 36,
   "metadata": {},
   "outputs": [
    {
     "data": {
      "text/plain": [
       "torch.Size([4, 1, 4])"
      ]
     },
     "execution_count": 36,
     "metadata": {},
     "output_type": "execute_result"
    }
   ],
   "source": [
    "apa_unsqu = apa.unsqueeze(1)\n",
    "apa_unsqu.shape"
   ]
  },
  {
   "cell_type": "code",
   "execution_count": 37,
   "metadata": {},
   "outputs": [
    {
     "data": {
      "text/plain": [
       "torch.Size([4, 2, 4])"
      ]
     },
     "execution_count": 37,
     "metadata": {},
     "output_type": "execute_result"
    }
   ],
   "source": [
    "torch.cat([apa_unsqu, apa_unsqu], dim=1).shape"
   ]
  },
  {
   "cell_type": "code",
   "execution_count": 38,
   "metadata": {},
   "outputs": [
    {
     "data": {
      "text/plain": [
       "(torch.Size([2, 8]), torch.Size([2, 8]))"
      ]
     },
     "execution_count": 38,
     "metadata": {},
     "output_type": "execute_result"
    }
   ],
   "source": [
    "num_layers = 2\n",
    "hidden_size = 8\n",
    "ht, ct = torch.chunk(torch.zeros(num_layers *2, hidden_size), 2)\n",
    "ht.shape, ct.shape"
   ]
  },
  {
   "cell_type": "code",
   "execution_count": 39,
   "metadata": {},
   "outputs": [
    {
     "data": {
      "text/plain": [
       "torch.Size([8])"
      ]
     },
     "execution_count": 39,
     "metadata": {},
     "output_type": "execute_result"
    }
   ],
   "source": [
    "ht[1].shape"
   ]
  },
  {
   "cell_type": "code",
   "execution_count": 40,
   "metadata": {},
   "outputs": [
    {
     "data": {
      "text/plain": [
       "torch.Size([4, 2, 4])"
      ]
     },
     "execution_count": 40,
     "metadata": {},
     "output_type": "execute_result"
    }
   ],
   "source": [
    "batch_size = 2\n",
    "bidirectional = True\n",
    "num_directions = 2 if bidirectional else 1\n",
    "num_layers = 2 * num_directions\n",
    "hidden_size = 4\n",
    "ht, ct, = torch.chunk(torch.zeros(num_layers*2, batch_size, hidden_size), 2)\n",
    "\n",
    "ht.shape"
   ]
  },
  {
   "cell_type": "code",
   "execution_count": 41,
   "metadata": {},
   "outputs": [
    {
     "data": {
      "text/plain": [
       "2"
      ]
     },
     "execution_count": 41,
     "metadata": {},
     "output_type": "execute_result"
    }
   ],
   "source": [
    "n = 4\n",
    "i = 0\n",
    "(n//2)+i"
   ]
  },
  {
   "cell_type": "code",
   "execution_count": 42,
   "metadata": {},
   "outputs": [
    {
     "data": {
      "text/plain": [
       "(torch.Size([2, 3]), torch.Size([2, 3]))"
      ]
     },
     "execution_count": 42,
     "metadata": {},
     "output_type": "execute_result"
    }
   ],
   "source": [
    "empty = torch.zeros(2, 3)\n",
    "ones = torch.randn(2, 3)\n",
    "empty.shape, ones.shape"
   ]
  },
  {
   "cell_type": "code",
   "execution_count": 43,
   "metadata": {},
   "outputs": [
    {
     "data": {
      "text/plain": [
       "torch.Size([4, 3])"
      ]
     },
     "execution_count": 43,
     "metadata": {},
     "output_type": "execute_result"
    }
   ],
   "source": [
    "empty = torch.cat([empty, ones])\n",
    "empty.shape"
   ]
  },
  {
   "cell_type": "code",
   "execution_count": 44,
   "metadata": {},
   "outputs": [
    {
     "data": {
      "text/plain": [
       "tensor([[ 0.0000,  0.0000,  0.0000],\n",
       "        [ 0.0000,  0.0000,  0.0000],\n",
       "        [-0.9617, -0.5264, -2.8355],\n",
       "        [-0.7074, -0.4760,  0.9387]])"
      ]
     },
     "execution_count": 44,
     "metadata": {},
     "output_type": "execute_result"
    }
   ],
   "source": [
    "empty"
   ]
  },
  {
   "cell_type": "code",
   "execution_count": 45,
   "metadata": {},
   "outputs": [
    {
     "data": {
      "text/plain": [
       "(tensor([[[ 0.7829,  0.6817,  1.1448],\n",
       "          [-0.7139,  0.1057, -1.7214],\n",
       "          [ 0.9056,  0.8198, -0.5538],\n",
       "          [ 2.6655,  0.2642,  0.4060]],\n",
       " \n",
       "         [[-1.2604, -0.1640,  2.7021],\n",
       "          [ 0.0249, -1.4499, -0.4705],\n",
       "          [ 0.6132,  0.5741,  0.4137],\n",
       "          [-0.3867, -1.3535, -1.4106]],\n",
       " \n",
       "         [[-0.7095, -0.3103, -1.8674],\n",
       "          [ 0.4326, -1.0553,  0.1128],\n",
       "          [ 0.8628, -0.7518, -1.2859],\n",
       "          [-2.1628, -1.2619, -0.5594]]]),\n",
       " torch.Size([3, 4, 3]))"
      ]
     },
     "execution_count": 45,
     "metadata": {},
     "output_type": "execute_result"
    }
   ],
   "source": [
    "x = torch.randn(3, 4, 3)\n",
    "x, x.shape"
   ]
  },
  {
   "cell_type": "code",
   "execution_count": 46,
   "metadata": {},
   "outputs": [
    {
     "data": {
      "text/plain": [
       "(tensor([[ 0.7829,  0.6817,  1.1448],\n",
       "         [-1.2604, -0.1640,  2.7021],\n",
       "         [-0.7095, -0.3103, -1.8674]]),\n",
       " torch.Size([3, 3]))"
      ]
     },
     "execution_count": 46,
     "metadata": {},
     "output_type": "execute_result"
    }
   ],
   "source": [
    "x[:,0], x[:,0].shape"
   ]
  },
  {
   "cell_type": "code",
   "execution_count": 47,
   "metadata": {},
   "outputs": [
    {
     "data": {
      "text/plain": [
       "tensor([[[ 2.6655,  0.2642,  0.4060],\n",
       "         [ 0.9056,  0.8198, -0.5538],\n",
       "         [-0.7139,  0.1057, -1.7214],\n",
       "         [ 0.7829,  0.6817,  1.1448]],\n",
       "\n",
       "        [[-0.3867, -1.3535, -1.4106],\n",
       "         [ 0.6132,  0.5741,  0.4137],\n",
       "         [ 0.0249, -1.4499, -0.4705],\n",
       "         [-1.2604, -0.1640,  2.7021]],\n",
       "\n",
       "        [[-2.1628, -1.2619, -0.5594],\n",
       "         [ 0.8628, -0.7518, -1.2859],\n",
       "         [ 0.4326, -1.0553,  0.1128],\n",
       "         [-0.7095, -0.3103, -1.8674]]])"
      ]
     },
     "execution_count": 47,
     "metadata": {},
     "output_type": "execute_result"
    }
   ],
   "source": [
    "torch.flip(x, dims=(1,))"
   ]
  },
  {
   "cell_type": "code",
   "execution_count": 48,
   "metadata": {},
   "outputs": [
    {
     "data": {
      "text/plain": [
       "tensor([[[0., 0., 1., 1.],\n",
       "         [0., 0., 1., 1.],\n",
       "         [0., 0., 1., 1.]],\n",
       "\n",
       "        [[0., 0., 1., 1.],\n",
       "         [0., 0., 1., 1.],\n",
       "         [0., 0., 1., 1.]]])"
      ]
     },
     "execution_count": 48,
     "metadata": {},
     "output_type": "execute_result"
    }
   ],
   "source": [
    "a = torch.zeros(2, 3, 2)\n",
    "b = torch.ones(2, 3, 2)\n",
    "\n",
    "torch.cat([a, b], dim=-1)"
   ]
  },
  {
   "cell_type": "code",
   "execution_count": 49,
   "metadata": {},
   "outputs": [
    {
     "data": {
      "text/plain": [
       "tensor([[[0.4524, 0.1858, 0.1738, 0.9306],\n",
       "         [0.9004, 0.9469, 0.8452, 0.1205],\n",
       "         [0.6894, 0.4141, 0.9704, 0.6410]],\n",
       "\n",
       "        [[0.6172, 0.2453, 0.4957, 0.6683],\n",
       "         [0.9383, 0.8883, 0.9367, 0.7243],\n",
       "         [0.0032, 0.9192, 0.3356, 0.8722]]])"
      ]
     },
     "execution_count": 49,
     "metadata": {},
     "output_type": "execute_result"
    }
   ],
   "source": [
    "test = torch.rand(2, 3, 4)\n",
    "test"
   ]
  },
  {
   "cell_type": "code",
   "execution_count": 50,
   "metadata": {},
   "outputs": [
    {
     "data": {
      "text/plain": [
       "(tensor([[[0.2418, 0.1852, 0.1830, 0.3900],\n",
       "          [0.2897, 0.3034, 0.2741, 0.1328],\n",
       "          [0.2477, 0.1881, 0.3281, 0.2360]],\n",
       " \n",
       "         [[0.2757, 0.1901, 0.2441, 0.2901],\n",
       "          [0.2662, 0.2532, 0.2657, 0.2149],\n",
       "          [0.1374, 0.3434, 0.1916, 0.3276]]]),\n",
       " torch.Size([2, 3, 4]))"
      ]
     },
     "execution_count": 50,
     "metadata": {},
     "output_type": "execute_result"
    }
   ],
   "source": [
    "test_softmax = torch.softmax(test, -1)\n",
    "test_softmax, test_softmax.shape"
   ]
  },
  {
   "cell_type": "code",
   "execution_count": 51,
   "metadata": {},
   "outputs": [
    {
     "data": {
      "text/plain": [
       "tensor([0.2418, 0.1852, 0.1830, 0.3900])"
      ]
     },
     "execution_count": 51,
     "metadata": {},
     "output_type": "execute_result"
    }
   ],
   "source": [
    "test_softmax[0, 0, :]"
   ]
  },
  {
   "cell_type": "code",
   "execution_count": 52,
   "metadata": {},
   "outputs": [],
   "source": [
    "max_len = 20\n",
    "text = ['a', 'b', 'c', 'd', 'e', 'f', 'g', 'h']"
   ]
  },
  {
   "cell_type": "code",
   "execution_count": 53,
   "metadata": {},
   "outputs": [],
   "source": [
    "text = text + (['|pad|'] * (max_len - len(text)))"
   ]
  },
  {
   "cell_type": "code",
   "execution_count": 54,
   "metadata": {},
   "outputs": [
    {
     "data": {
      "text/plain": [
       "20"
      ]
     },
     "execution_count": 54,
     "metadata": {},
     "output_type": "execute_result"
    }
   ],
   "source": [
    "text\n",
    "len(text)"
   ]
  },
  {
   "cell_type": "code",
   "execution_count": 55,
   "metadata": {},
   "outputs": [],
   "source": [
    "import nltk"
   ]
  },
  {
   "cell_type": "code",
   "execution_count": 1,
   "metadata": {},
   "outputs": [
    {
     "data": {
      "text/plain": [
       "{'a',\n",
       " 'about',\n",
       " 'above',\n",
       " 'after',\n",
       " 'again',\n",
       " 'against',\n",
       " 'ain',\n",
       " 'all',\n",
       " 'am',\n",
       " 'an',\n",
       " 'and',\n",
       " 'any',\n",
       " 'are',\n",
       " 'aren',\n",
       " \"aren't\",\n",
       " 'as',\n",
       " 'at',\n",
       " 'be',\n",
       " 'because',\n",
       " 'been',\n",
       " 'before',\n",
       " 'being',\n",
       " 'below',\n",
       " 'between',\n",
       " 'both',\n",
       " 'but',\n",
       " 'by',\n",
       " 'can',\n",
       " 'couldn',\n",
       " \"couldn't\",\n",
       " 'd',\n",
       " 'did',\n",
       " 'didn',\n",
       " \"didn't\",\n",
       " 'do',\n",
       " 'does',\n",
       " 'doesn',\n",
       " \"doesn't\",\n",
       " 'doing',\n",
       " 'don',\n",
       " \"don't\",\n",
       " 'down',\n",
       " 'during',\n",
       " 'each',\n",
       " 'few',\n",
       " 'for',\n",
       " 'from',\n",
       " 'further',\n",
       " 'had',\n",
       " 'hadn',\n",
       " \"hadn't\",\n",
       " 'has',\n",
       " 'hasn',\n",
       " \"hasn't\",\n",
       " 'have',\n",
       " 'haven',\n",
       " \"haven't\",\n",
       " 'having',\n",
       " 'he',\n",
       " \"he'd\",\n",
       " \"he'll\",\n",
       " \"he's\",\n",
       " 'her',\n",
       " 'here',\n",
       " 'hers',\n",
       " 'herself',\n",
       " 'him',\n",
       " 'himself',\n",
       " 'his',\n",
       " 'how',\n",
       " 'i',\n",
       " \"i'd\",\n",
       " \"i'll\",\n",
       " \"i'm\",\n",
       " \"i've\",\n",
       " 'if',\n",
       " 'in',\n",
       " 'into',\n",
       " 'is',\n",
       " 'isn',\n",
       " \"isn't\",\n",
       " 'it',\n",
       " \"it'd\",\n",
       " \"it'll\",\n",
       " \"it's\",\n",
       " 'its',\n",
       " 'itself',\n",
       " 'just',\n",
       " 'll',\n",
       " 'm',\n",
       " 'ma',\n",
       " 'me',\n",
       " 'mightn',\n",
       " \"mightn't\",\n",
       " 'more',\n",
       " 'most',\n",
       " 'mustn',\n",
       " \"mustn't\",\n",
       " 'my',\n",
       " 'myself',\n",
       " 'needn',\n",
       " \"needn't\",\n",
       " 'no',\n",
       " 'nor',\n",
       " 'not',\n",
       " 'now',\n",
       " 'o',\n",
       " 'of',\n",
       " 'off',\n",
       " 'on',\n",
       " 'once',\n",
       " 'only',\n",
       " 'or',\n",
       " 'other',\n",
       " 'our',\n",
       " 'ours',\n",
       " 'ourselves',\n",
       " 'out',\n",
       " 'over',\n",
       " 'own',\n",
       " 're',\n",
       " 's',\n",
       " 'same',\n",
       " 'shan',\n",
       " \"shan't\",\n",
       " 'she',\n",
       " \"she'd\",\n",
       " \"she'll\",\n",
       " \"she's\",\n",
       " 'should',\n",
       " \"should've\",\n",
       " 'shouldn',\n",
       " \"shouldn't\",\n",
       " 'so',\n",
       " 'some',\n",
       " 'such',\n",
       " 't',\n",
       " 'than',\n",
       " 'that',\n",
       " \"that'll\",\n",
       " 'the',\n",
       " 'their',\n",
       " 'theirs',\n",
       " 'them',\n",
       " 'themselves',\n",
       " 'then',\n",
       " 'there',\n",
       " 'these',\n",
       " 'they',\n",
       " \"they'd\",\n",
       " \"they'll\",\n",
       " \"they're\",\n",
       " \"they've\",\n",
       " 'this',\n",
       " 'those',\n",
       " 'through',\n",
       " 'to',\n",
       " 'too',\n",
       " 'under',\n",
       " 'until',\n",
       " 'up',\n",
       " 've',\n",
       " 'very',\n",
       " 'was',\n",
       " 'wasn',\n",
       " \"wasn't\",\n",
       " 'we',\n",
       " \"we'd\",\n",
       " \"we'll\",\n",
       " \"we're\",\n",
       " \"we've\",\n",
       " 'were',\n",
       " 'weren',\n",
       " \"weren't\",\n",
       " 'what',\n",
       " 'when',\n",
       " 'where',\n",
       " 'which',\n",
       " 'while',\n",
       " 'who',\n",
       " 'whom',\n",
       " 'why',\n",
       " 'will',\n",
       " 'with',\n",
       " 'won',\n",
       " \"won't\",\n",
       " 'wouldn',\n",
       " \"wouldn't\",\n",
       " 'y',\n",
       " 'you',\n",
       " \"you'd\",\n",
       " \"you'll\",\n",
       " \"you're\",\n",
       " \"you've\",\n",
       " 'your',\n",
       " 'yours',\n",
       " 'yourself',\n",
       " 'yourselves'}"
      ]
     },
     "execution_count": 1,
     "metadata": {},
     "output_type": "execute_result"
    }
   ],
   "source": [
    "from nltk.corpus import stopwords\n",
    "\n",
    "sw = set(stopwords.words('english'))\n",
    "sw"
   ]
  },
  {
   "cell_type": "code",
   "execution_count": 57,
   "metadata": {},
   "outputs": [
    {
     "data": {
      "text/plain": [
       "(False, True, True)"
      ]
     },
     "execution_count": 57,
     "metadata": {},
     "output_type": "execute_result"
    }
   ],
   "source": [
    "sw.__contains__(\"'s\"), sw.__contains__(\"he\"), sw.__contains__(\"who\")"
   ]
  },
  {
   "cell_type": "code",
   "execution_count": 86,
   "metadata": {},
   "outputs": [
    {
     "data": {
      "text/plain": [
       "False"
      ]
     },
     "execution_count": 86,
     "metadata": {},
     "output_type": "execute_result"
    }
   ],
   "source": [
    "sw.__contains__('abbreviation')"
   ]
  },
  {
   "cell_type": "code",
   "execution_count": 58,
   "metadata": {},
   "outputs": [
    {
     "data": {
      "text/plain": [
       "['What',\n",
       " 'country',\n",
       " 'is',\n",
       " 'the',\n",
       " 'world',\n",
       " \"'s\",\n",
       " 'largest',\n",
       " 'importer',\n",
       " 'of',\n",
       " 'cognac',\n",
       " '?']"
      ]
     },
     "execution_count": 58,
     "metadata": {},
     "output_type": "execute_result"
    }
   ],
   "source": [
    "from nltk import word_tokenize\n",
    "\n",
    "text = \"What country is the world 's largest importer of cognac ?\"\n",
    "word_tokenize(text)"
   ]
  },
  {
   "cell_type": "code",
   "execution_count": 59,
   "metadata": {},
   "outputs": [
    {
     "data": {
      "text/plain": [
       "['What',\n",
       " 'country',\n",
       " 'is',\n",
       " 'the',\n",
       " 'world',\n",
       " \"'s\",\n",
       " 'largest',\n",
       " 'importer',\n",
       " 'of',\n",
       " 'cognac',\n",
       " '?']"
      ]
     },
     "execution_count": 59,
     "metadata": {},
     "output_type": "execute_result"
    }
   ],
   "source": [
    "text = \"What country is the world's largest importer of cognac?\"\n",
    "word_tokenize(text)"
   ]
  },
  {
   "cell_type": "code",
   "execution_count": 60,
   "metadata": {},
   "outputs": [
    {
     "data": {
      "text/plain": [
       "['What', 'country', 'world', \"'s\", 'largest', 'importer', 'cognac', '?']"
      ]
     },
     "execution_count": 60,
     "metadata": {},
     "output_type": "execute_result"
    }
   ],
   "source": [
    "[parse for parse in word_tokenize(text) if parse not in sw]"
   ]
  },
  {
   "cell_type": "code",
   "execution_count": 61,
   "metadata": {},
   "outputs": [],
   "source": [
    "import numpy as np"
   ]
  },
  {
   "cell_type": "code",
   "execution_count": 62,
   "metadata": {},
   "outputs": [],
   "source": [
    "def add_padding(datas: list[np.array]):\n",
    "    emb_size = datas[0].shape[-1]\n",
    "    max_len = 0\n",
    "\n",
    "    for data in datas:\n",
    "        if data.shape[0] > max_len:\n",
    "            max_len = data.shape[0]\n",
    "    new_datas = []\n",
    "    for data in datas:\n",
    "        padding = np.zeros((max_len-len(data), emb_size))\n",
    "        new_datas.append(np.concatenate((data, padding), axis=0))\n",
    "    return torch.tensor(new_datas)"
   ]
  },
  {
   "cell_type": "code",
   "execution_count": 63,
   "metadata": {},
   "outputs": [
    {
     "name": "stderr",
     "output_type": "stream",
     "text": [
      "/var/folders/t0/tl2fk21s6c7_qd6mtrdkb8480000gn/T/ipykernel_48014/875109853.py:12: UserWarning: Creating a tensor from a list of numpy.ndarrays is extremely slow. Please consider converting the list to a single numpy.ndarray with numpy.array() before converting to a tensor. (Triggered internally at /Users/runner/work/pytorch/pytorch/pytorch/torch/csrc/utils/tensor_new.cpp:281.)\n",
      "  return torch.tensor(new_datas)\n"
     ]
    },
    {
     "data": {
      "text/plain": [
       "torch.Size([3, 7, 10])"
      ]
     },
     "execution_count": 63,
     "metadata": {},
     "output_type": "execute_result"
    }
   ],
   "source": [
    "data_1 = np.random.randn(3, 10)\n",
    "data_2 = np.random.randn(7, 10)\n",
    "data_3 = np.random.randn(5, 10)\n",
    "\n",
    "batch_of_data = add_padding([data_1, data_2, data_3])\n",
    "batch_of_data.shape"
   ]
  },
  {
   "cell_type": "code",
   "execution_count": 64,
   "metadata": {},
   "outputs": [
    {
     "data": {
      "text/plain": [
       "(tensor([[1., 1., 1., 0., 0., 0., 0.],\n",
       "         [1., 1., 1., 1., 1., 1., 1.],\n",
       "         [1., 1., 1., 1., 1., 0., 0.]]),\n",
       " torch.Size([3, 7]))"
      ]
     },
     "execution_count": 64,
     "metadata": {},
     "output_type": "execute_result"
    }
   ],
   "source": [
    "mask = (batch_of_data.abs().sum(dim=-1) > 0).float()\n",
    "mask, mask.shape"
   ]
  },
  {
   "cell_type": "code",
   "execution_count": 65,
   "metadata": {},
   "outputs": [
    {
     "data": {
      "text/plain": [
       "(tensor([[[ 0.0483,  1.7035,  0.8027, -0.6027, -0.2790, -0.1458, -0.9889,\n",
       "           -1.2298, -1.5375,  0.1672],\n",
       "          [ 0.5927,  1.0959,  0.1416,  0.7644,  0.5123, -0.6965, -0.0396,\n",
       "            0.8082,  1.0980,  0.7636],\n",
       "          [ 1.3342,  0.1328,  0.5335,  1.7901, -0.5537,  0.2704, -1.6149,\n",
       "           -0.4998,  0.8350, -0.4592],\n",
       "          [ 0.0000,  0.0000,  0.0000,  0.0000,  0.0000,  0.0000,  0.0000,\n",
       "            0.0000,  0.0000,  0.0000],\n",
       "          [ 0.0000,  0.0000,  0.0000,  0.0000,  0.0000,  0.0000,  0.0000,\n",
       "            0.0000,  0.0000,  0.0000],\n",
       "          [ 0.0000,  0.0000,  0.0000,  0.0000,  0.0000,  0.0000,  0.0000,\n",
       "            0.0000,  0.0000,  0.0000],\n",
       "          [ 0.0000,  0.0000,  0.0000,  0.0000,  0.0000,  0.0000,  0.0000,\n",
       "            0.0000,  0.0000,  0.0000]],\n",
       " \n",
       "         [[-0.6697, -0.8353,  0.6990, -0.2049,  1.8059, -0.7820,  0.0350,\n",
       "            0.6135,  2.7953,  0.7447],\n",
       "          [-3.1726, -0.9644, -0.7879,  0.0168, -0.6602, -0.0070,  1.1296,\n",
       "            1.1731,  0.0652, -0.8625],\n",
       "          [ 1.0477, -0.2670,  0.2630,  0.7055,  0.5338,  0.2108, -0.4577,\n",
       "           -0.4242, -0.6375,  0.5946],\n",
       "          [-1.4109,  2.1604, -0.2846, -0.1645, -0.0595, -2.0019,  2.1635,\n",
       "            0.6473, -1.3117, -0.0159],\n",
       "          [ 0.5687,  0.2956, -1.0677,  0.6720, -0.4025,  1.6365, -0.1193,\n",
       "            1.7868,  1.2836, -0.8035],\n",
       "          [-0.8426,  0.4609, -0.6176,  0.3863,  1.2522,  0.4691, -0.9170,\n",
       "           -1.2774,  0.9149, -1.2332],\n",
       "          [-1.3531,  0.9917, -0.3841, -1.9780,  0.4039, -0.7308,  0.8200,\n",
       "            0.9486, -0.0304, -0.2408]],\n",
       " \n",
       "         [[ 0.9354, -0.1873,  0.7906,  0.9565, -0.3261,  1.6093,  0.6741,\n",
       "            1.6898, -0.6207, -0.6004],\n",
       "          [ 0.6102,  0.0262,  0.4448, -0.5770,  0.2503,  1.7779,  0.1426,\n",
       "            1.1668, -0.0987, -1.1795],\n",
       "          [-0.3637, -0.2353, -0.2399,  0.4377,  0.1307, -0.1926,  1.5394,\n",
       "            1.3324, -0.3151, -1.1728],\n",
       "          [-0.6171,  0.0114,  0.0515,  1.5696, -0.2626,  0.5955,  0.2405,\n",
       "            0.5049,  0.1131,  1.4857],\n",
       "          [-0.3337,  1.5535, -0.9505, -1.1852, -0.4972, -2.2056,  0.4173,\n",
       "            2.6215, -0.7447, -1.1365],\n",
       "          [ 0.0000,  0.0000,  0.0000,  0.0000,  0.0000,  0.0000,  0.0000,\n",
       "            0.0000,  0.0000,  0.0000],\n",
       "          [ 0.0000,  0.0000,  0.0000,  0.0000,  0.0000,  0.0000,  0.0000,\n",
       "            0.0000,  0.0000,  0.0000]]], dtype=torch.float64),\n",
       " torch.Size([3, 7, 10]))"
      ]
     },
     "execution_count": 65,
     "metadata": {},
     "output_type": "execute_result"
    }
   ],
   "source": [
    "masked_input = batch_of_data * mask.unsqueeze(-1)\n",
    "masked_input, masked_input.shape"
   ]
  },
  {
   "cell_type": "code",
   "execution_count": 66,
   "metadata": {},
   "outputs": [
    {
     "data": {
      "text/plain": [
       "(tensor([2, 6, 4]), torch.Size([3]))"
      ]
     },
     "execution_count": 66,
     "metadata": {},
     "output_type": "execute_result"
    }
   ],
   "source": [
    "last_valid_idx = mask.sum(dim=1).long() - 1\n",
    "last_valid_idx, last_valid_idx.shape"
   ]
  },
  {
   "cell_type": "code",
   "execution_count": 67,
   "metadata": {},
   "outputs": [
    {
     "data": {
      "text/plain": [
       "(torch.Size([3, 10]),\n",
       " tensor([[ 1.3342,  0.1328,  0.5335,  1.7901, -0.5537,  0.2704, -1.6149, -0.4998,\n",
       "           0.8350, -0.4592],\n",
       "         [-1.3531,  0.9917, -0.3841, -1.9780,  0.4039, -0.7308,  0.8200,  0.9486,\n",
       "          -0.0304, -0.2408],\n",
       "         [-0.3337,  1.5535, -0.9505, -1.1852, -0.4972, -2.2056,  0.4173,  2.6215,\n",
       "          -0.7447, -1.1365]], dtype=torch.float64))"
      ]
     },
     "execution_count": 67,
     "metadata": {},
     "output_type": "execute_result"
    }
   ],
   "source": [
    "tes_1 = batch_of_data[torch.arange(batch_of_data.size(0)), last_valid_idx, :]\n",
    "tes_2 = batch_of_data[:, last_valid_idx, :]\n",
    "\n",
    "tes_1.shape, tes_1"
   ]
  },
  {
   "cell_type": "code",
   "execution_count": 68,
   "metadata": {},
   "outputs": [],
   "source": [
    "test = torch.tensor([[1., 0., 0., 0.], [0., 0., 1., 0.], [0., 1., 0. , 0.]], dtype=torch.float64)\n",
    "test_label = torch.tensor([[1, 0, 0, 0], [0, 0, 1, 0], [0, 1, 0 , 0]], dtype=torch.float64)"
   ]
  },
  {
   "cell_type": "code",
   "execution_count": 69,
   "metadata": {},
   "outputs": [
    {
     "data": {
      "text/plain": [
       "tensor(0.7437, dtype=torch.float64)"
      ]
     },
     "execution_count": 69,
     "metadata": {},
     "output_type": "execute_result"
    }
   ],
   "source": [
    "torch.nn.functional.cross_entropy(test, test_label)\n",
    "# torch.nn.functional.cross_entropy(test * 1000, torch.argmax(test_label, dim=1))"
   ]
  },
  {
   "cell_type": "code",
   "execution_count": 70,
   "metadata": {},
   "outputs": [
    {
     "data": {
      "text/plain": [
       "tensor([[1000.,    0.,    0.,    0.],\n",
       "        [   0.,    0., 1000.,    0.],\n",
       "        [   0., 1000.,    0.,    0.]], dtype=torch.float64)"
      ]
     },
     "execution_count": 70,
     "metadata": {},
     "output_type": "execute_result"
    }
   ],
   "source": [
    "test * 1000"
   ]
  },
  {
   "cell_type": "code",
   "execution_count": 71,
   "metadata": {},
   "outputs": [
    {
     "data": {
      "text/plain": [
       "tensor([0, 2, 1])"
      ]
     },
     "execution_count": 71,
     "metadata": {},
     "output_type": "execute_result"
    }
   ],
   "source": [
    "torch.argmax(test_label, dim=1)"
   ]
  },
  {
   "cell_type": "code",
   "execution_count": 72,
   "metadata": {},
   "outputs": [
    {
     "name": "stdout",
     "output_type": "stream",
     "text": [
      "tensor(0.0006, dtype=torch.float64)\n"
     ]
    }
   ],
   "source": [
    "import torch\n",
    "\n",
    "# Raw logits instead of one-hot probabilities\n",
    "test = torch.tensor([[10., 2., -1., 0.], \n",
    "                     [-1., 0., 10., 3.], \n",
    "                     [-2., 8., -1., 0.]], dtype=torch.float64)\n",
    "\n",
    "# Class indices instead of one-hot labels\n",
    "test_label = torch.tensor([0, 2, 1], dtype=torch.long)\n",
    "\n",
    "loss = torch.nn.functional.cross_entropy(test, test_label)\n",
    "print(loss)  # Should be a small loss or zero if correctly classified"
   ]
  },
  {
   "cell_type": "markdown",
   "metadata": {},
   "source": [
    "# Testing attention"
   ]
  },
  {
   "cell_type": "code",
   "execution_count": 73,
   "metadata": {},
   "outputs": [
    {
     "data": {
      "text/plain": [
       "(tensor([[ 0.3360,  0.1314],\n",
       "         [-1.9231, -0.8950],\n",
       "         [ 0.6660, -1.4929]]),\n",
       " torch.Size([3, 2]))"
      ]
     },
     "execution_count": 73,
     "metadata": {},
     "output_type": "execute_result"
    }
   ],
   "source": [
    "# dummy embedding values for text \"what is your\"\n",
    "emb_dim = 2\n",
    "text_embedding = torch.randn(3, emb_dim)\n",
    "text_embedding, text_embedding.shape"
   ]
  },
  {
   "cell_type": "code",
   "execution_count": 74,
   "metadata": {},
   "outputs": [],
   "source": [
    "# dummy weights matrices\n",
    "W_key = nn.Parameter(torch.rand(emb_dim, 3), requires_grad=False)\n",
    "W_query = nn.Parameter(torch.rand(emb_dim, 3), requires_grad=False)\n",
    "W_value = nn.Parameter(torch.rand(emb_dim, 3), requires_grad=False)"
   ]
  },
  {
   "cell_type": "code",
   "execution_count": 75,
   "metadata": {},
   "outputs": [
    {
     "data": {
      "text/plain": [
       "(tensor([[ 0.3441,  0.4033,  0.2309],\n",
       "         [-2.0896, -2.3998, -1.4018],\n",
       "         [-0.7939, -0.3243, -0.5304]]),\n",
       " torch.Size([3, 3]))"
      ]
     },
     "execution_count": 75,
     "metadata": {},
     "output_type": "execute_result"
    }
   ],
   "source": [
    "key = text_embedding @ W_key\n",
    "query = text_embedding @ W_query\n",
    "value = text_embedding @ W_value\n",
    "key, key.shape"
   ]
  },
  {
   "cell_type": "code",
   "execution_count": 76,
   "metadata": {},
   "outputs": [
    {
     "data": {
      "text/plain": [
       "(tensor([[5.3036e-01, 1.5247e-01, 3.1717e-01],\n",
       "         [4.7861e-04, 9.8862e-01, 1.0901e-02],\n",
       "         [2.3219e-02, 8.9724e-01, 7.9536e-02]]),\n",
       " torch.Size([3, 3]))"
      ]
     },
     "execution_count": 76,
     "metadata": {},
     "output_type": "execute_result"
    }
   ],
   "source": [
    "# compute attention weights\n",
    "attn_scores = query @ key.T\n",
    "# normalize the attention weights using softmax and scale it by dividing it with the square root of embedding dimension\n",
    "attn_weights = torch.softmax(attn_scores / emb_dim ** 0.5, dim=-1)\n",
    "attn_weights, attn_weights.shape"
   ]
  },
  {
   "cell_type": "code",
   "execution_count": 77,
   "metadata": {},
   "outputs": [
    {
     "data": {
      "text/plain": [
       "(tensor([[-0.0679, -0.0060, -0.3485],\n",
       "         [-2.0699, -0.2055, -0.6215],\n",
       "         [-1.8570, -0.1842, -0.6285]]),\n",
       " torch.Size([3, 3]))"
      ]
     },
     "execution_count": 77,
     "metadata": {},
     "output_type": "execute_result"
    }
   ],
   "source": [
    "# compute context vector\n",
    "context_vector = attn_weights @ value\n",
    "context_vector, context_vector.shape"
   ]
  },
  {
   "cell_type": "code",
   "execution_count": 78,
   "metadata": {},
   "outputs": [
    {
     "data": {
      "text/plain": [
       "tensor([[0., 1., 1.],\n",
       "        [0., 0., 1.],\n",
       "        [0., 0., 0.]])"
      ]
     },
     "execution_count": 78,
     "metadata": {},
     "output_type": "execute_result"
    }
   ],
   "source": [
    "mask = torch.triu(torch.ones(3, 3), diagonal=1)\n",
    "mask"
   ]
  },
  {
   "cell_type": "code",
   "execution_count": 79,
   "metadata": {},
   "outputs": [
    {
     "data": {
      "text/plain": [
       "tensor([[0.1482, 0.7804, 0.0609],\n",
       "        [0.2186, 0.5342, 0.1984],\n",
       "        [0.3789, 0.6493, 0.0879]])"
      ]
     },
     "execution_count": 79,
     "metadata": {},
     "output_type": "execute_result"
    }
   ],
   "source": [
    "attn = torch.rand(3, 3)\n",
    "attn"
   ]
  },
  {
   "cell_type": "code",
   "execution_count": 80,
   "metadata": {},
   "outputs": [
    {
     "data": {
      "text/plain": [
       "tensor([[False,  True,  True],\n",
       "        [False, False,  True],\n",
       "        [False, False, False]])"
      ]
     },
     "execution_count": 80,
     "metadata": {},
     "output_type": "execute_result"
    }
   ],
   "source": [
    "mask.bool()"
   ]
  },
  {
   "cell_type": "code",
   "execution_count": 81,
   "metadata": {},
   "outputs": [
    {
     "data": {
      "text/plain": [
       "tensor([[0.1482,   -inf,   -inf],\n",
       "        [0.2186, 0.5342,   -inf],\n",
       "        [0.3789, 0.6493, 0.0879]])"
      ]
     },
     "execution_count": 81,
     "metadata": {},
     "output_type": "execute_result"
    }
   ],
   "source": [
    "attn.masked_fill_(mask.bool(), -torch.inf)"
   ]
  },
  {
   "cell_type": "code",
   "execution_count": 82,
   "metadata": {},
   "outputs": [
    {
     "data": {
      "text/plain": [
       "tensor([[[0.4580, 0.5369, 0.6129, 0.9682, 0.0097, 0.4850, 0.7195, 0.8812],\n",
       "         [0.6419, 0.0992, 0.6374, 0.7812, 0.1725, 0.0520, 0.5752, 0.7788],\n",
       "         [0.3955, 0.0856, 0.0538, 0.2736, 0.8533, 0.6643, 0.8628, 0.1816]],\n",
       "\n",
       "        [[0.6190, 0.9327, 0.6918, 0.9274, 0.2339, 0.2670, 0.2944, 0.2754],\n",
       "         [0.2399, 0.1725, 0.0352, 0.4315, 0.7258, 0.0622, 0.8508, 0.0762],\n",
       "         [0.7585, 0.1353, 0.7683, 0.8946, 0.6677, 0.4175, 0.7330, 0.3778]]])"
      ]
     },
     "execution_count": 82,
     "metadata": {},
     "output_type": "execute_result"
    }
   ],
   "source": [
    "tes = torch.rand(2, 3, 8)\n",
    "tes"
   ]
  },
  {
   "cell_type": "code",
   "execution_count": 83,
   "metadata": {},
   "outputs": [
    {
     "data": {
      "text/plain": [
       "tensor([[[[0.4580, 0.5369, 0.6129, 0.9682],\n",
       "          [0.0097, 0.4850, 0.7195, 0.8812]],\n",
       "\n",
       "         [[0.6419, 0.0992, 0.6374, 0.7812],\n",
       "          [0.1725, 0.0520, 0.5752, 0.7788]],\n",
       "\n",
       "         [[0.3955, 0.0856, 0.0538, 0.2736],\n",
       "          [0.8533, 0.6643, 0.8628, 0.1816]]],\n",
       "\n",
       "\n",
       "        [[[0.6190, 0.9327, 0.6918, 0.9274],\n",
       "          [0.2339, 0.2670, 0.2944, 0.2754]],\n",
       "\n",
       "         [[0.2399, 0.1725, 0.0352, 0.4315],\n",
       "          [0.7258, 0.0622, 0.8508, 0.0762]],\n",
       "\n",
       "         [[0.7585, 0.1353, 0.7683, 0.8946],\n",
       "          [0.6677, 0.4175, 0.7330, 0.3778]]]])"
      ]
     },
     "execution_count": 83,
     "metadata": {},
     "output_type": "execute_result"
    }
   ],
   "source": [
    "splitted = tes.view(2, 3, 2, 4)\n",
    "splitted"
   ]
  },
  {
   "cell_type": "code",
   "execution_count": 84,
   "metadata": {},
   "outputs": [
    {
     "data": {
      "text/plain": [
       "tensor([[[[0.4580, 0.5369, 0.6129, 0.9682],\n",
       "          [0.6419, 0.0992, 0.6374, 0.7812],\n",
       "          [0.3955, 0.0856, 0.0538, 0.2736]],\n",
       "\n",
       "         [[0.0097, 0.4850, 0.7195, 0.8812],\n",
       "          [0.1725, 0.0520, 0.5752, 0.7788],\n",
       "          [0.8533, 0.6643, 0.8628, 0.1816]]],\n",
       "\n",
       "\n",
       "        [[[0.6190, 0.9327, 0.6918, 0.9274],\n",
       "          [0.2399, 0.1725, 0.0352, 0.4315],\n",
       "          [0.7585, 0.1353, 0.7683, 0.8946]],\n",
       "\n",
       "         [[0.2339, 0.2670, 0.2944, 0.2754],\n",
       "          [0.7258, 0.0622, 0.8508, 0.0762],\n",
       "          [0.6677, 0.4175, 0.7330, 0.3778]]]])"
      ]
     },
     "execution_count": 84,
     "metadata": {},
     "output_type": "execute_result"
    }
   ],
   "source": [
    "head = splitted.transpose(1, 2)\n",
    "head"
   ]
  },
  {
   "cell_type": "code",
   "execution_count": null,
   "metadata": {},
   "outputs": [
    {
     "data": {
      "image/png": "[encoded data removed]",
      "text/plain": [
       "<Figure size 1200x500 with 4 Axes>"
      ]
     },
     "metadata": {},
     "output_type": "display_data"
    },
    {
     "name": "stdout",
     "output_type": "stream",
     "text": [
      "Before LayerNorm - Example 0: Mean = 7.59, Std = 4.91\n",
      "After  LayerNorm - Example 0: Mean = 0.00, Std = 1.07\n"
     ]
    }
   ],
   "source": [
    "import numpy as np\n",
    "import matplotlib.pyplot as plt\n",
    "import seaborn as sns\n",
    "import torch\n",
    "import torch.nn as nn\n",
    "\n",
    "# Simulate a batch of inputs (e.g., from a hidden layer)\n",
    "torch.manual_seed(0)\n",
    "batch_size = 4\n",
    "hidden_dim = 8\n",
    "inputs = torch.randn(batch_size, hidden_dim) * 5 + 10  # unnormalized, large scale inputs\n",
    "\n",
    "# Apply Layer Normalization\n",
    "layer_norm = nn.LayerNorm(hidden_dim)\n",
    "normalized_outputs = layer_norm(inputs)\n",
    "\n",
    "# Convert to numpy for visualization\n",
    "inputs_np = inputs.detach().numpy()\n",
    "normalized_np = normalized_outputs.detach().numpy()\n",
    "\n",
    "# Plot heatmaps: Before and After LayerNorm\n",
    "plt.figure(figsize=(12, 5))\n",
    "\n",
    "# Before LayerNorm\n",
    "plt.subplot(1, 2, 1)\n",
    "sns.heatmap(inputs_np, annot=True, fmt=\".2f\", cmap=\"YlOrBr\", cbar=True)\n",
    "plt.title(\"Before LayerNorm (Raw Inputs)\")\n",
    "plt.xlabel(\"Features\")\n",
    "plt.ylabel(\"Examples\")\n",
    "\n",
    "# After LayerNorm\n",
    "plt.subplot(1, 2, 2)\n",
    "sns.heatmap(normalized_np, annot=True, fmt=\".2f\", cmap=\"YlGnBu\", cbar=True)\n",
    "plt.title(\"After LayerNorm (Normalized Outputs)\")\n",
    "plt.xlabel(\"Features\")\n",
    "plt.ylabel(\"Examples\")\n",
    "\n",
    "plt.tight_layout()\n",
    "plt.show()\n",
    "\n",
    "# Print mean and std before/after for one example\n",
    "i = 0\n",
    "print(f\"Before LayerNorm - Example {i}: Mean = {inputs[i].mean():.2f}, Std = {inputs[i].std():.2f}\")\n",
    "print(f\"After  LayerNorm - Example {i}: Mean = {normalized_outputs[i].mean():.2f}, Std = {normalized_outputs[i].std():.2f}\")"
   ]
  },
  {
   "cell_type": "code",
   "execution_count": null,
   "metadata": {},
   "outputs": [
    {
     "data": {
      "text/plain": [
       "['abc', 'def', 'ghi', 'jkl']"
      ]
     },
     "execution_count": 98,
     "metadata": {},
     "output_type": "execute_result"
    }
   ],
   "source": [
    "tes1 = ['abc', 'def']\n",
    "tes2 = ['ghi', 'jkl']\n",
    "tes3 = [*tes1, *tes2]\n",
    "tes3"
   ]
  },
  {
   "cell_type": "code",
   "execution_count": null,
   "metadata": {},
   "outputs": [],
   "source": [
    "import gensim\n",
    "import gensim.downloader\n",
    "\n",
    "vectors = gensim.downloader.load('word2vec-google-news-300')"
   ]
  },
  {
   "cell_type": "code",
   "execution_count": null,
   "metadata": {},
   "outputs": [
    {
     "data": {
      "text/plain": [
       "<gensim.models.keyedvectors.KeyedVectors at 0x379753490>"
      ]
     },
     "execution_count": 24,
     "metadata": {},
     "output_type": "execute_result"
    }
   ],
   "source": [
    "vectors"
   ]
  },
  {
   "cell_type": "code",
   "execution_count": null,
   "metadata": {},
   "outputs": [
    {
     "data": {
      "text/plain": [
       "False"
      ]
     },
     "execution_count": 32,
     "metadata": {},
     "output_type": "execute_result"
    }
   ],
   "source": [
    "vectors.__contains__('u.s')"
   ]
  },
  {
   "cell_type": "code",
   "execution_count": null,
   "metadata": {},
   "outputs": [
    {
     "data": {
      "text/plain": [
       "True"
      ]
     },
     "execution_count": 21,
     "metadata": {},
     "output_type": "execute_result"
    }
   ],
   "source": [
    "tes1 = {\n",
    "    'a': 1,\n",
    "    'b': 2,\n",
    "    'c': 3\n",
    "}\n",
    "\n",
    "tes2 = {\n",
    "    'd': 4,\n",
    "    'e': 5,\n",
    "    'f': 6\n",
    "\n",
    "}\n",
    "target = 'd'\n",
    "tes3 = [*tes1, *tes2]\n",
    "tes3.__contains__(target)"
   ]
  },
  {
   "cell_type": "code",
   "execution_count": null,
   "metadata": {},
   "outputs": [
    {
     "ename": "NameError",
     "evalue": "name 'sw' is not defined",
     "output_type": "error",
     "traceback": [
      "\u001b[0;31m---------------------------------------------------------------------------\u001b[0m",
      "\u001b[0;31mNameError\u001b[0m                                 Traceback (most recent call last)",
      "Cell \u001b[0;32mIn[27], line 1\u001b[0m\n\u001b[0;32m----> 1\u001b[0m \u001b[43msw\u001b[49m\u001b[38;5;241m.\u001b[39m\u001b[38;5;21m__contains__\u001b[39m(\u001b[38;5;124m'\u001b[39m\u001b[38;5;124mabbreviation\u001b[39m\u001b[38;5;124m'\u001b[39m)\n",
      "\u001b[0;31mNameError\u001b[0m: name 'sw' is not defined"
     ]
    }
   ],
   "source": [
    "sw.__contains__('abbreviation')"
   ]
  },
  {
   "cell_type": "code",
   "execution_count": null,
   "metadata": {},
   "outputs": [
    {
     "data": {
      "text/plain": [
       "[0,\n",
       " 0,\n",
       " 0,\n",
       " 0,\n",
       " 0,\n",
       " 0,\n",
       " 0,\n",
       " 0,\n",
       " 0,\n",
       " 0,\n",
       " 0,\n",
       " 0,\n",
       " 0,\n",
       " 0,\n",
       " 0,\n",
       " 0,\n",
       " 0,\n",
       " 0,\n",
       " 0,\n",
       " 0,\n",
       " 0,\n",
       " 0,\n",
       " 0,\n",
       " 0,\n",
       " 0,\n",
       " 0,\n",
       " 0,\n",
       " 0,\n",
       " 0,\n",
       " 0,\n",
       " 0,\n",
       " 0,\n",
       " 0,\n",
       " 0,\n",
       " 0,\n",
       " 0,\n",
       " 0,\n",
       " 0,\n",
       " 0,\n",
       " 0,\n",
       " 0,\n",
       " 0,\n",
       " 0,\n",
       " 0,\n",
       " 0,\n",
       " 0,\n",
       " 0,\n",
       " 0,\n",
       " 0,\n",
       " 0,\n",
       " 0,\n",
       " 0,\n",
       " 0,\n",
       " 0,\n",
       " 0,\n",
       " 0,\n",
       " 0,\n",
       " 0,\n",
       " 0,\n",
       " 0,\n",
       " 0,\n",
       " 0,\n",
       " 0,\n",
       " 0,\n",
       " 0,\n",
       " 0,\n",
       " 0,\n",
       " 0,\n",
       " 0,\n",
       " 0,\n",
       " 0,\n",
       " 0,\n",
       " 0,\n",
       " 0,\n",
       " 0,\n",
       " 0,\n",
       " 0,\n",
       " 0,\n",
       " 0,\n",
       " 0,\n",
       " 0,\n",
       " 0,\n",
       " 0,\n",
       " 0,\n",
       " 0,\n",
       " 0]"
      ]
     },
     "execution_count": 26,
     "metadata": {},
     "output_type": "execute_result"
    }
   ],
   "source": [
    "import pandas as pd\n",
    "\n",
    "train_df = pd.read_csv('../dataset/trec_train.csv')\n",
    "labels = len(train_df['coarse_label'].unique())\n",
    "labels_total = train_df['coarse_label'].value_counts().sort_index().values\n",
    "targets = [[index] * labels_total[index] for index in range(labels)][0]\n",
    "targets\n"
   ]
  },
  {
   "cell_type": "code",
   "execution_count": 120,
   "metadata": {},
   "outputs": [
    {
     "name": "stdout",
     "output_type": "stream",
     "text": [
      "5952\n"
     ]
    }
   ],
   "source": [
    "train_df = pd.read_csv('../dataset/trec_train.csv')\n",
    "test_df = pd.read_csv('../dataset/trec_test.csv')\n",
    "train_df = train_df.dropna()\n",
    "print(len(train_df) + len(test_df))\n",
    "# train_df = train_df[train_df['coarse_label'] != 0]\n",
    "# print(len(train_df))"
   ]
  },
  {
   "cell_type": "code",
   "execution_count": 112,
   "metadata": {},
   "outputs": [
    {
     "data": {
      "text/plain": [
       "0       How did serfdom develop in and then leave Russ...\n",
       "1        What films featured the character Popeye Doyle ?\n",
       "2       How can I find a list of celebrities ' real na...\n",
       "3       What fowl grabs the spotlight after the Chines...\n",
       "4                         What is the full form of .com ?\n",
       "                              ...                        \n",
       "5447              What 's the shape of a camel 's spine ?\n",
       "5448             What type of currency is used in China ?\n",
       "5449                      What is the temperature today ?\n",
       "5450                What is the temperature for cooking ?\n",
       "5451                 What currency is used in Australia ?\n",
       "Name: text, Length: 5452, dtype: object"
      ]
     },
     "execution_count": 112,
     "metadata": {},
     "output_type": "execute_result"
    }
   ],
   "source": [
    "train_df['text']"
   ]
  },
  {
   "cell_type": "code",
   "execution_count": 119,
   "metadata": {},
   "outputs": [
    {
     "ename": "TypeError",
     "evalue": "unsupported operand type(s) for -: 'list' and 'int'",
     "output_type": "error",
     "traceback": [
      "\u001b[0;31m---------------------------------------------------------------------------\u001b[0m",
      "\u001b[0;31mTypeError\u001b[0m                                 Traceback (most recent call last)",
      "Cell \u001b[0;32mIn[119], line 3\u001b[0m\n\u001b[1;32m      1\u001b[0m targets \u001b[38;5;241m=\u001b[39m [\u001b[38;5;241m1\u001b[39m, \u001b[38;5;241m2\u001b[39m, \u001b[38;5;241m3\u001b[39m, \u001b[38;5;241m4\u001b[39m, \u001b[38;5;241m5\u001b[39m]\n\u001b[0;32m----> 3\u001b[0m \u001b[43mtargets\u001b[49m\u001b[43m \u001b[49m\u001b[38;5;241;43m-\u001b[39;49m\u001b[43m \u001b[49m\u001b[38;5;241;43m1\u001b[39;49m\n",
      "\u001b[0;31mTypeError\u001b[0m: unsupported operand type(s) for -: 'list' and 'int'"
     ]
    }
   ],
   "source": [
    "targets = [1, 2, 3, 4, 5]\n",
    "\n",
    "targets - 1"
   ]
  },
  {
   "cell_type": "code",
   "execution_count": 5,
   "metadata": {},
   "outputs": [
    {
     "data": {
      "text/plain": [
       "tensor([ 0,  1,  2,  3,  4,  5,  6,  7,  8,  9, 10, 11])"
      ]
     },
     "execution_count": 5,
     "metadata": {},
     "output_type": "execute_result"
    }
   ],
   "source": [
    "x = torch.arange(12)\n",
    "x"
   ]
  },
  {
   "cell_type": "code",
   "execution_count": 6,
   "metadata": {},
   "outputs": [
    {
     "data": {
      "text/plain": [
       "torch.Size([12])"
      ]
     },
     "execution_count": 6,
     "metadata": {},
     "output_type": "execute_result"
    }
   ],
   "source": [
    "x.shape"
   ]
  },
  {
   "cell_type": "code",
   "execution_count": 12,
   "metadata": {},
   "outputs": [
    {
     "data": {
      "text/plain": [
       "tensor([[ 0,  1,  2],\n",
       "        [ 3,  4,  5],\n",
       "        [ 6,  7,  8],\n",
       "        [ 9, 10, 11]])"
      ]
     },
     "execution_count": 12,
     "metadata": {},
     "output_type": "execute_result"
    }
   ],
   "source": [
    "x.reshape(-1, 3)"
   ]
  },
  {
   "cell_type": "code",
   "execution_count": 14,
   "metadata": {},
   "outputs": [
    {
     "data": {
      "text/plain": [
       "5"
      ]
     },
     "execution_count": 14,
     "metadata": {},
     "output_type": "execute_result"
    }
   ],
   "source": [
    "test = [1, 2, 3, 4, 5]\n",
    "max(test)"
   ]
  },
  {
   "cell_type": "code",
   "execution_count": 2,
   "metadata": {},
   "outputs": [
    {
     "name": "stdout",
     "output_type": "stream",
     "text": [
      "0\n"
     ]
    }
   ],
   "source": [
    "lstm_layer = 2\n",
    "for i in range(lstm_layer - 1):\n",
    "    print(i)\n"
   ]
  },
  {
   "cell_type": "code",
   "execution_count": 15,
   "metadata": {},
   "outputs": [
    {
     "data": {
      "text/plain": [
       "torch.Size([3, 10, 30])"
      ]
     },
     "execution_count": 15,
     "metadata": {},
     "output_type": "execute_result"
    }
   ],
   "source": [
    "import torch\n",
    "emb_dim = 30\n",
    "input = torch.rand((3, 10, emb_dim))\n",
    "input.shape"
   ]
  },
  {
   "cell_type": "code",
   "execution_count": null,
   "metadata": {},
   "outputs": [
    {
     "data": {
      "text/plain": [
       "(torch.Size([3, 10, 15]), torch.Size([3, 10, 15]))"
      ]
     },
     "execution_count": 18,
     "metadata": {},
     "output_type": "execute_result"
    }
   ],
   "source": [
    "forward, backward = torch.chunk(input, 2, dim=-1)\n",
    "forward.shape, backward.shape"
   ]
  },
  {
   "cell_type": "code",
   "execution_count": 19,
   "metadata": {},
   "outputs": [
    {
     "data": {
      "text/plain": [
       "torch.Size([3, 10, 30])"
      ]
     },
     "execution_count": 19,
     "metadata": {},
     "output_type": "execute_result"
    }
   ],
   "source": [
    "x = torch.concat((forward, backward), dim=-1)\n",
    "x.shape"
   ]
  },
  {
   "cell_type": "code",
   "execution_count": null,
   "metadata": {},
   "outputs": [],
   "source": []
  }
 ],
 "metadata": {
  "kernelspec": {
   "display_name": "ai-env",
   "language": "python",
   "name": "python3"
  },
  "language_info": {
   "codemirror_mode": {
    "name": "ipython",
    "version": 3
   },
   "file_extension": ".py",
   "mimetype": "text/x-python",
   "name": "python",
   "nbconvert_exporter": "python",
   "pygments_lexer": "ipython3",
   "version": "3.11.11"
  }
 },
 "nbformat": 4,
 "nbformat_minor": 2
}
